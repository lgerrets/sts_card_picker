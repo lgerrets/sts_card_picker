{
 "cells": [
  {
   "cell_type": "code",
   "execution_count": 34,
   "metadata": {},
   "outputs": [],
   "source": [
    "import numpy as np\n",
    "import json\n",
    "from typing import List\n",
    "import os, os.path\n",
    "from collections import defaultdict"
   ]
  },
  {
   "cell_type": "markdown",
   "metadata": {},
   "source": [
    "Got a dataset from Slay The Spire official discord where Baalor posted data about around 700 of his runs in 2022."
   ]
  },
  {
   "cell_type": "markdown",
   "metadata": {},
   "source": [
    "### Can we deterministically say what's the state of the deck at any floor?\n"
   ]
  },
  {
   "cell_type": "code",
   "execution_count": 45,
   "metadata": {},
   "outputs": [],
   "source": [
    "IRONCLAD_CARDS = [\"Anger\", \"Body Slam\", \"Clash\", \"Cleave\", \"Clothesline\", \"Headbutt\", \"Heavy Blade\", \"Iron Wave\", \"Perfected Strike\", \"Pommel Strike\", \"Sword Boomerang\", \"Thunderclap\", \"Twin Strike\", \"Wild Strike\", \"Blood for Blood\", \"Carnage\", \"Dropkick\", \"Hemokinesis\", \"Pummel\", \"Rampage\", \"Reckless Charge\", \"Searing Blow\", \"Sever Soul\", \"Uppercut\", \"Whirlwind\", \"Bludgeon\", \"Feed\", \"Fiend Fire\", \"Immolate\", \"Reaper\", \"Armaments\", \"Flex\", \"Havoc\", \"Shrug It Off\", \"True Grit\", \"Warcry\", \"Battle Trance\", \"Bloodletting\", \"Burning Pact\", \"Disarm\", \"Dual Wield\", \"Entrench\", \"Flame Barrier\", \"Ghostly Armor\", \"Infernal Blade\", \"Intimidate\", \"Power Through\", \"Rage\", \"Second Wind\", \"Seeing Red\", \"Sentinel\", \"Shockwave\", \"Spot Weakness\", \"Double Tap\", \"Exhume\", \"Impervious\", \"Limit Break\", \"Offering\", \"Combust\", \"Dark Embrace\", \"Evolve\", \"Feel No Pain\", \"Fire Breathing\", \"Inflame\", \"Metallicize\", \"Rupture\", \"Barricade\", \"Berserk\", \"Brutality\", \"Corruption\", \"Demon Form\", \"Juggernaut\", ]\n",
    "COLORLESS_CARDS = [\"Dramatic Entrance\", \"Flash of Steel\", \"Mind Blast\", \"Swift Strike\", \"Hand of Greed\", \"Bite\", \"Expunger\", \"Ritual Dagger\", \"Shiv\", \"Smite\", \"Through Violence\", \"Bandage Up\", \"Blind\", \"Dark Shackles\", \"Deep Breath\", \"Discovery\", \"Enlightenment\", \"Finesse\", \"Forethought\", \"Good Instincts\", \"Impatience\", \"Jack of All Trades\", \"Madness\", \"Panacea\", \"Panic Button\", \"Purity\", \"Trip\", \"Apotheosis\", \"Chrysalis\", \"Master of Strategy\", \"Metamorphosis\", \"Secret Technique\", \"Secret Weapon\", \"The Bomb\", \"Thinking Ahead\", \"Transmutation\", \"Violence\", \"Apparition\", \"Beta\", \"Insight\", \"J.A.X.\", \"Miracle\", \"Safety\", \"Magnetism\", \"Mayhem\", \"Panache\", \"Sadistic Nature\", \"Omega\", ]\n",
    "\n",
    "def is_a_card(card : str):\n",
    "    name = card.split(\"+\")[0]\n",
    "    return (name in IRONCLAD_CARDS) or (name in COLORLESS_CARDS)\n",
    "    \n",
    "def add_card(deck : List[str], card : str):\n",
    "    if is_a_card(card):\n",
    "        deck.append(card)\n",
    "\n",
    "def remove_card(deck : List[str], card : str):\n",
    "    if card in deck:\n",
    "        deck.remove(card)\n",
    "    else:\n",
    "        assert False, f\"{card} not in {deck}\"\n",
    "\n",
    "def upgrade_card(deck : List[str], card : str):\n",
    "    remove_card(deck, card)\n",
    "    if \"+\" in card:\n",
    "        name, n_upgrades = card.split(\"+\")\n",
    "        n_upgrades = int(n_upgrades)\n",
    "    else:\n",
    "        name = card\n",
    "        n_upgrades = 0\n",
    "    card = f\"{name}+{n_upgrades+1}\"\n",
    "    add_card(deck, card)\n",
    "\n",
    "def rebuild_deck(data):\n",
    "    assert data[\"is_ascension_mode\"]\n",
    "    assert data[\"character_chosen\"] == \"IRONCLAD\"\n",
    "    assert data[\"victory\"]\n",
    "    assert data[\"ascension_level\"] == 20\n",
    "    assert len(data[\"path_per_floor\"]) == 57\n",
    "\n",
    "    deck = [\"Defend_R\"]*4 + [\"Strike_R\"]*5 + [\"Bash\", \"AscendersBane\"]\n",
    "\n",
    "    for card in data[\"neow_bonus_log\"][\"cardsObtained\"]:\n",
    "        add_card(deck, card)\n",
    "    for card in data[\"neow_bonus_log\"][\"cardsUpgraded\"]:\n",
    "        upgrade_card(deck, card)\n",
    "    for card in data[\"neow_bonus_log\"][\"cardsRemoved\"]:\n",
    "        remove_card(deck, card)\n",
    "    for card in data[\"neow_bonus_log\"][\"cardsTransformed\"]:\n",
    "        remove_card(deck, card)\n",
    "\n",
    "    node_to_index = defaultdict(lambda: 0)\n",
    "\n",
    "    floor = 0\n",
    "    for node in data[\"path_per_floor\"]:\n",
    "        floor += 1\n",
    "        index = node_to_index[node]\n",
    "        node_to_index[node] += 1\n",
    "\n",
    "        if (node == \"M\") or (node == \"E\") or (node == \"B\"):\n",
    "            if floor not in [50, 51, 56]:\n",
    "                got_at_least_one_reward = False\n",
    "                for card_choice in data[\"card_choices\"]:\n",
    "                    if card_choice[\"floor\"] == floor:\n",
    "                        got_at_least_one_reward = True\n",
    "                        add_card(deck, card_choice[\"picked\"])\n",
    "        elif node == \"?\":\n",
    "            node_data = data[\"event_choices\"][index]\n",
    "            assert node_data[\"floor\"] == floor\n",
    "            if \"cards_obtained\" in node_data:\n",
    "                for card in node_data[\"cards_obtained\"]:\n",
    "                    add_card(deck, card)\n",
    "            if \"cards_upgraded\" in node_data:\n",
    "                for card in node_data[\"cards_upgraded\"]:\n",
    "                    upgrade_card(deck, card)\n",
    "            if \"cards_removed\" in node_data:\n",
    "                for card in node_data[\"cards_removed\"]:\n",
    "                    remove_card(deck, card)\n",
    "            if \"cards_transformed\" in node_data:\n",
    "                for card in node_data[\"cards_transformed\"]:\n",
    "                    remove_card(deck, card)\n",
    "        elif node == \"R\":\n",
    "            node_data = data[\"campfire_choices\"][index]\n",
    "            assert node_data[\"key\"] in [\"REST\", \"SMITH\", \"RECALL\", \"DIG\", \"LIFT\"]\n",
    "            assert node_data[\"floor\"] == floor\n",
    "            if node_data[\"key\"] == \"SMITH\":\n",
    "                upgrade_card(deck, node_data[\"data\"])\n",
    "        elif node == \"T\":\n",
    "            pass\n",
    "        elif node == \"$\":\n",
    "            for purged_card, purged_floor in zip(data[\"items_purged\"], data[\"items_purged_floors\"]):\n",
    "                if purged_floor == floor:\n",
    "                    remove_card(deck, purged_card)\n",
    "            for purchase_card, purchase_floor in zip(data[\"items_purchased\"], data[\"item_purchase_floors\"]):\n",
    "                if purchase_floor == floor:\n",
    "                    add_card(deck, purchase_card)\n",
    "        elif node is None:\n",
    "            pass\n",
    "        else:\n",
    "            assert False, node\n",
    "\n",
    "    master_deck = set(data[\"master_deck\"])\n",
    "    deck = set(deck)\n",
    "    assert deck == master_deck, (master_deck.difference(deck), deck.difference(master_deck))\n"
   ]
  },
  {
   "cell_type": "code",
   "execution_count": 46,
   "metadata": {},
   "outputs": [
    {
     "name": "stdout",
     "output_type": "stream",
     "text": [
      "1657397784.run\n"
     ]
    },
    {
     "ename": "AssertionError",
     "evalue": "({'Bash+1', 'Strike_R+1'}, {'Bash', 'Strike_R'})",
     "output_type": "error",
     "traceback": [
      "\u001b[1;31m---------------------------------------------------------------------------\u001b[0m",
      "\u001b[1;31mAssertionError\u001b[0m                            Traceback (most recent call last)",
      "Cell \u001b[1;32mIn[46], line 11\u001b[0m\n\u001b[0;32m      9\u001b[0m \u001b[38;5;28mprint\u001b[39m(filename)\n\u001b[0;32m     10\u001b[0m json\u001b[38;5;241m.\u001b[39mdump(data, \u001b[38;5;28mopen\u001b[39m(\u001b[38;5;124m\"\u001b[39m\u001b[38;5;124m./example_ironclad.run\u001b[39m\u001b[38;5;124m\"\u001b[39m, \u001b[38;5;124m\"\u001b[39m\u001b[38;5;124mw\u001b[39m\u001b[38;5;124m\"\u001b[39m), indent\u001b[38;5;241m=\u001b[39m\u001b[38;5;241m4\u001b[39m)\n\u001b[1;32m---> 11\u001b[0m \u001b[38;5;28;01mraise\u001b[39;00m e\n",
      "Cell \u001b[1;32mIn[46], line 7\u001b[0m\n\u001b[0;32m      5\u001b[0m data \u001b[38;5;241m=\u001b[39m json\u001b[38;5;241m.\u001b[39mload(\u001b[38;5;28mopen\u001b[39m(os\u001b[38;5;241m.\u001b[39mpath\u001b[38;5;241m.\u001b[39mjoin(directory, filename), \u001b[38;5;124m\"\u001b[39m\u001b[38;5;124mr\u001b[39m\u001b[38;5;124m\"\u001b[39m))\n\u001b[0;32m      6\u001b[0m \u001b[38;5;28;01mtry\u001b[39;00m:\n\u001b[1;32m----> 7\u001b[0m     \u001b[43mrebuild_deck\u001b[49m\u001b[43m(\u001b[49m\u001b[43mdata\u001b[49m\u001b[43m)\u001b[49m\n\u001b[0;32m      8\u001b[0m \u001b[38;5;28;01mexcept\u001b[39;00m \u001b[38;5;167;01mException\u001b[39;00m \u001b[38;5;28;01mas\u001b[39;00m e:\n\u001b[0;32m      9\u001b[0m     \u001b[38;5;28mprint\u001b[39m(filename)\n",
      "Cell \u001b[1;32mIn[45], line 99\u001b[0m, in \u001b[0;36mrebuild_deck\u001b[1;34m(data)\u001b[0m\n\u001b[0;32m     97\u001b[0m master_deck \u001b[38;5;241m=\u001b[39m \u001b[38;5;28mset\u001b[39m(data[\u001b[38;5;124m\"\u001b[39m\u001b[38;5;124mmaster_deck\u001b[39m\u001b[38;5;124m\"\u001b[39m])\n\u001b[0;32m     98\u001b[0m deck \u001b[38;5;241m=\u001b[39m \u001b[38;5;28mset\u001b[39m(deck)\n\u001b[1;32m---> 99\u001b[0m \u001b[38;5;28;01massert\u001b[39;00m deck \u001b[38;5;241m==\u001b[39m master_deck, (master_deck\u001b[38;5;241m.\u001b[39mdifference(deck), deck\u001b[38;5;241m.\u001b[39mdifference(master_deck))\n",
      "\u001b[1;31mAssertionError\u001b[0m: ({'Bash+1', 'Strike_R+1'}, {'Bash', 'Strike_R'})"
     ]
    }
   ],
   "source": [
    "directory = \"../Baalor400/Wins 201-400/IRONCLAD\"\n",
    "files = os.listdir(directory)\n",
    "\n",
    "for filename in files:\n",
    "    data = json.load(open(os.path.join(directory, filename), \"r\"))\n",
    "    try:\n",
    "        rebuild_deck(data)\n",
    "    except Exception as e:\n",
    "        print(filename)\n",
    "        json.dump(data, open(\"./example_ironclad.run\", \"w\"), indent=4)\n",
    "        raise e\n",
    "\n"
   ]
  },
  {
   "cell_type": "markdown",
   "metadata": {},
   "source": []
  },
  {
   "cell_type": "code",
   "execution_count": null,
   "metadata": {},
   "outputs": [],
   "source": []
  }
 ],
 "metadata": {
  "kernelspec": {
   "display_name": "Python 3.9.7 ('env': venv)",
   "language": "python",
   "name": "python3"
  },
  "language_info": {
   "codemirror_mode": {
    "name": "ipython",
    "version": 3
   },
   "file_extension": ".py",
   "mimetype": "text/x-python",
   "name": "python",
   "nbconvert_exporter": "python",
   "pygments_lexer": "ipython3",
   "version": "3.9.7"
  },
  "orig_nbformat": 4,
  "vscode": {
   "interpreter": {
    "hash": "e6b27d6d8c2daaaf96a4a9c34334123293eea47677ad6b9117dec22502d6ffdd"
   }
  }
 },
 "nbformat": 4,
 "nbformat_minor": 2
}

{
 "cells": [
  {
   "cell_type": "code",
   "execution_count": 25,
   "metadata": {},
   "outputs": [],
   "source": [
    "import numpy as np\n",
    "import json\n",
    "from typing import List\n",
    "import math\n",
    "import os, os.path\n",
    "from collections import defaultdict\n",
    "import matplotlib.pyplot as plt"
   ]
  },
  {
   "cell_type": "markdown",
   "metadata": {},
   "source": [
    "Got a dataset from Slay The Spire official discord where Baalor posted data about around 700 of his runs in 2022."
   ]
  },
  {
   "cell_type": "markdown",
   "metadata": {},
   "source": [
    "### Can we deterministically say what's the state of the deck at any floor?\n"
   ]
  },
  {
   "cell_type": "code",
   "execution_count": 4,
   "metadata": {},
   "outputs": [],
   "source": [
    "data = json.load(open(\"C:/Users/lgerretsen/perso/perso/sts/2019-05-31-00-53#1028.json\", \"r\"))\n"
   ]
  },
  {
   "cell_type": "code",
   "execution_count": 14,
   "metadata": {},
   "outputs": [
    {
     "data": {
      "text/plain": [
       "dict_keys(['gold_per_floor', 'floor_reached', 'playtime', 'items_purged', 'score', 'play_id', 'local_time', 'is_ascension_mode', 'campfire_choices', 'neow_cost', 'seed_source_timestamp', 'circlet_count', 'master_deck', 'relics', 'potions_floor_usage', 'damage_taken', 'seed_played', 'potions_obtained', 'is_trial', 'path_per_floor', 'character_chosen', 'items_purchased', 'campfire_rested', 'item_purchase_floors', 'current_hp_per_floor', 'gold', 'neow_bonus', 'is_prod', 'is_daily', 'chose_seed', 'campfire_upgraded', 'win_rate', 'timestamp', 'path_taken', 'build_version', 'purchased_purges', 'victory', 'max_hp_per_floor', 'card_choices', 'player_experience', 'relics_obtained', 'event_choices', 'is_beta', 'boss_relics', 'items_purged_floors', 'is_endless', 'potions_floor_spawned', 'killed_by', 'ascension_level'])"
      ]
     },
     "execution_count": 14,
     "metadata": {},
     "output_type": "execute_result"
    }
   ],
   "source": [
    "sample = data[0]\n",
    "assert set(sample.keys()) == {'event'}\n",
    "sample = sample[\"event\"]\n",
    "sample.keys()"
   ]
  },
  {
   "cell_type": "markdown",
   "metadata": {},
   "source": []
  },
  {
   "cell_type": "code",
   "execution_count": 15,
   "metadata": {},
   "outputs": [
    {
     "data": {
      "text/plain": [
       "'REMOVE_TWO'"
      ]
     },
     "execution_count": 15,
     "metadata": {},
     "output_type": "execute_result"
    }
   ],
   "source": [
    "sample[\"neow_bonus\"]"
   ]
  },
  {
   "cell_type": "code",
   "execution_count": 16,
   "metadata": {},
   "outputs": [
    {
     "data": {
      "text/plain": [
       "[7]"
      ]
     },
     "execution_count": 16,
     "metadata": {},
     "output_type": "execute_result"
    }
   ],
   "source": [
    "sample[\"items_purged_floors\"]\n"
   ]
  },
  {
   "cell_type": "code",
   "execution_count": 24,
   "metadata": {},
   "outputs": [],
   "source": [
    "idx = 0\n",
    "while 1:\n",
    "    sample = data[idx][\"event\"]\n",
    "    if sample[\"victory\"]:\n",
    "        break\n",
    "    idx += 1\n",
    "json.dump(sample, open(\"./example_vanilla.run\", \"w\"), indent=4)"
   ]
  },
  {
   "cell_type": "code",
   "execution_count": 32,
   "metadata": {},
   "outputs": [
    {
     "data": {
      "text/html": [
       "<div>\n",
       "<style scoped>\n",
       "    .dataframe tbody tr th:only-of-type {\n",
       "        vertical-align: middle;\n",
       "    }\n",
       "\n",
       "    .dataframe tbody tr th {\n",
       "        vertical-align: top;\n",
       "    }\n",
       "\n",
       "    .dataframe thead th {\n",
       "        text-align: right;\n",
       "    }\n",
       "</style>\n",
       "<table border=\"1\" class=\"dataframe\">\n",
       "  <thead>\n",
       "    <tr style=\"text-align: right;\">\n",
       "      <th></th>\n",
       "      <th>Unnamed: 0</th>\n",
       "      <th>training_loss</th>\n",
       "      <th>training_L_inf</th>\n",
       "      <th>training_L_1</th>\n",
       "      <th>val_loss</th>\n",
       "      <th>val_L_inf</th>\n",
       "      <th>val_L_1</th>\n",
       "    </tr>\n",
       "  </thead>\n",
       "  <tbody>\n",
       "    <tr>\n",
       "      <th>0</th>\n",
       "      <td>0</td>\n",
       "      <td>2.441414</td>\n",
       "      <td>0.863281</td>\n",
       "      <td>0.512630</td>\n",
       "      <td>1.780497</td>\n",
       "      <td>0.652344</td>\n",
       "      <td>0.216797</td>\n",
       "    </tr>\n",
       "    <tr>\n",
       "      <th>1</th>\n",
       "      <td>1</td>\n",
       "      <td>1.755751</td>\n",
       "      <td>0.621094</td>\n",
       "      <td>0.207185</td>\n",
       "      <td>2.201215</td>\n",
       "      <td>0.660156</td>\n",
       "      <td>0.217773</td>\n",
       "    </tr>\n",
       "    <tr>\n",
       "      <th>2</th>\n",
       "      <td>2</td>\n",
       "      <td>1.902064</td>\n",
       "      <td>0.613281</td>\n",
       "      <td>0.201172</td>\n",
       "      <td>NaN</td>\n",
       "      <td>NaN</td>\n",
       "      <td>NaN</td>\n",
       "    </tr>\n",
       "    <tr>\n",
       "      <th>3</th>\n",
       "      <td>3</td>\n",
       "      <td>2.281659</td>\n",
       "      <td>0.640625</td>\n",
       "      <td>0.212738</td>\n",
       "      <td>NaN</td>\n",
       "      <td>NaN</td>\n",
       "      <td>NaN</td>\n",
       "    </tr>\n",
       "    <tr>\n",
       "      <th>4</th>\n",
       "      <td>4</td>\n",
       "      <td>2.090119</td>\n",
       "      <td>0.617188</td>\n",
       "      <td>0.202819</td>\n",
       "      <td>NaN</td>\n",
       "      <td>NaN</td>\n",
       "      <td>NaN</td>\n",
       "    </tr>\n",
       "  </tbody>\n",
       "</table>\n",
       "</div>"
      ],
      "text/plain": [
       "   Unnamed: 0  training_loss  training_L_inf  training_L_1  val_loss  \\\n",
       "0           0       2.441414        0.863281      0.512630  1.780497   \n",
       "1           1       1.755751        0.621094      0.207185  2.201215   \n",
       "2           2       1.902064        0.613281      0.201172       NaN   \n",
       "3           3       2.281659        0.640625      0.212738       NaN   \n",
       "4           4       2.090119        0.617188      0.202819       NaN   \n",
       "\n",
       "   val_L_inf   val_L_1  \n",
       "0   0.652344  0.216797  \n",
       "1   0.660156  0.217773  \n",
       "2        NaN       NaN  \n",
       "3        NaN       NaN  \n",
       "4        NaN       NaN  "
      ]
     },
     "execution_count": 32,
     "metadata": {},
     "output_type": "execute_result"
    },
    {
     "data": {
      "image/png": "[encoded data removed]",
      "text/plain": [
       "<Figure size 640x480 with 1 Axes>"
      ]
     },
     "metadata": {},
     "output_type": "display_data"
    }
   ],
   "source": [
    "import pandas as pd\n",
    "\n",
    "training_dirname = \"\"\n",
    "training_dirname = \"2023-01-01-14-38-05_november_blocks4-256_split0.8\"\n",
    "# training_dirname = \"2023-01-01-14-13-45_november_blocks4-256_split0.2\"\n",
    "# training_dirname = \"2023-01-01-14-10-46_november_blocks4-128_split0.001\"\n",
    "# training_dirname = \"2022-12-23-21-39-39_november_blocks8\"\n",
    "# training_dirname = \"2022-12-21-22-51-42_november\"\n",
    "\n",
    "df = pd.read_csv(f\"../trainings/{training_dirname}/metrics.csv\")\n",
    "\n",
    "import matplotlib.pyplot as plt\n",
    "import math\n",
    "\n",
    "plt.grid()\n",
    "\n",
    "plt.plot(list(df.training_loss), color=\"blue\", label=\"loss\")\n",
    "plt.plot(list(df.training_L_1), color=\"orange\", label=\"L1\")\n",
    "plt.plot(list(df.training_L_inf), color=\"green\", label=\"L_inf\")\n",
    "\n",
    "def plot_holed_values(values, color, linestyle):\n",
    "    xs = [i for i,val in enumerate(values) if not math.isnan(val)]\n",
    "    ys = [val for val in values if not math.isnan(val)]\n",
    "    plt.plot(xs, ys, color=color, linestyle=linestyle)\n",
    "plot_holed_values(list(df.val_loss), color=\"blue\", linestyle='dashed')\n",
    "plot_holed_values(list(df.val_L_1), color=\"orange\", linestyle='dashed')\n",
    "plot_holed_values(list(df.val_L_inf), color=\"green\", linestyle='dashed')\n",
    "plt.legend()\n",
    "\n",
    "df.head()\n",
    "\n"
   ]
  },
  {
   "cell_type": "code",
   "execution_count": null,
   "metadata": {},
   "outputs": [],
   "source": []
  }
 ],
 "metadata": {
  "kernelspec": {
   "display_name": "Python 3.9.7 ('env': venv)",
   "language": "python",
   "name": "python3"
  },
  "language_info": {
   "codemirror_mode": {
    "name": "ipython",
    "version": 3
   },
   "file_extension": ".py",
   "mimetype": "text/x-python",
   "name": "python",
   "nbconvert_exporter": "python",
   "pygments_lexer": "ipython3",
   "version": "3.9.13"
  },
  "orig_nbformat": 4,
  "vscode": {
   "interpreter": {
    "hash": "e6b27d6d8c2daaaf96a4a9c34334123293eea47677ad6b9117dec22502d6ffdd"
   }
  }
 },
 "nbformat": 4,
 "nbformat_minor": 2
}
